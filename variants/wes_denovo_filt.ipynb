{
 "cells": [
  {
   "cell_type": "code",
   "execution_count": 159,
   "metadata": {
    "collapsed": false
   },
   "outputs": [
    {
     "name": "stdout",
     "output_type": "stream",
     "text": [
      "Variable        Type                 Data/Info\n",
      "----------------------------------------------\n",
      "dnv_ios_extra   DataFrame                 Chr        Pos x1   <...>n[3576 rows x 19 columns]\n",
      "dnv_ios_kr      DataFrame                    Sample Chr       <...>\\n[7719 rows x 8 columns]\n",
      "dnv_krumm       DataFrame                 Chr        Pos   Ref<...>n[7271 rows x 17 columns]\n",
      "func            module               <module 'func' from '/mnt<...>riants/variants/func.py'>\n",
      "fv              module               <module 'features_vcf' fr<...>riants/features_vcf.pyc'>\n",
      "infile_ped      str                  /mnt/scratch/asalomatov/data/SSC/SSCped/SSC.ped\n",
      "infile_vcf      str                  /mnt/scratch/asalomatov/S<...>/11006-HC-pm50-ann.vcf.gz\n",
      "myf             function             <function myf at 0x7f652bb9ced8>\n",
      "myf1            function             <function myf1 at 0x7f652b8c2230>\n",
      "myped           ped.Ped              <ped.Ped instance at 0x7f652e054fc8>\n",
      "myvars          variants.Variants    <variants.Variants instance at 0x7f655d163c68>\n",
      "np              module               <module 'numpy' from '/mn<...>ages/numpy/__init__.pyc'>\n",
      "os              module               <module 'os' from '/mnt/x<...>da/lib/python2.7/os.pyc'>\n",
      "pd              module               <module 'pandas' from '/m<...>ges/pandas/__init__.pyc'>\n",
      "ped             module               <module 'ped' from '/mnt/<...>riants/variants/ped.pyc'>\n",
      "sys             module               <module 'sys' (built-in)>\n",
      "variants        module               <module 'variants' from '<...>s/variants/variants.pyc'>\n"
     ]
    }
   ],
   "source": [
    "whos"
   ]
  },
  {
   "cell_type": "markdown",
   "metadata": {},
   "source": [
    "## WES de novo filtering\n",
    "\n",
    "### Training set(s) composition.\n",
    "\n",
    "Available data sets:\n",
    "    - Iossifov\n",
    "    - Krumm\n",
    "    - Columbia\n",
    "\n",
    "Isolate sets of variants by status\n",
    "    1. All plausible de novos ( incl. validated, ND, failed ) and its complement\n",
    "    2. High confidence de novos (intersection of Krumm and Iossifov) and its complement\n",
    "    3. The same as (2) in the set of all plausible de novos, two step filtering: first from raw variants to plausible de novos, second from plausible de novos to high confidence de novos\n",
    "    \n",
    "Input format for bam-readcounts is tab delimeted chr start end.\n"
   ]
  },
  {
   "cell_type": "code",
   "execution_count": null,
   "metadata": {
    "collapsed": true
   },
   "outputs": [],
   "source": [
    "pwd"
   ]
  },
  {
   "cell_type": "code",
   "execution_count": 12,
   "metadata": {
    "collapsed": false
   },
   "outputs": [
    {
     "data": {
      "text/plain": [
       "u'/mnt/xfs1/home/asalomatov/projects/variants/variants'"
      ]
     },
     "execution_count": 12,
     "metadata": {},
     "output_type": "execute_result"
    }
   ],
   "source": []
  },
  {
   "cell_type": "markdown",
   "metadata": {},
   "source": [
    "Let's orgafnize SSC de novo mutations\n",
    "First source is Krumm et al. paper that reports mutations found in both Iossifov and Krumm studies based on WES data."
   ]
  },
  {
   "cell_type": "code",
   "execution_count": 38,
   "metadata": {
    "collapsed": false
   },
   "outputs": [
    {
     "data": {
      "text/html": [
       "<div>\n",
       "<table border=\"1\" class=\"dataframe\">\n",
       "  <thead>\n",
       "    <tr style=\"text-align: right;\">\n",
       "      <th></th>\n",
       "      <th>Chr</th>\n",
       "      <th>Pos</th>\n",
       "      <th>Ref</th>\n",
       "      <th>Alt</th>\n",
       "      <th>Sample</th>\n",
       "      <th>Gene</th>\n",
       "      <th>Effect</th>\n",
       "      <th>Group</th>\n",
       "      <th>AAChange</th>\n",
       "      <th>Exon</th>\n",
       "      <th>Transcript</th>\n",
       "      <th>Validation</th>\n",
       "      <th>Study</th>\n",
       "    </tr>\n",
       "  </thead>\n",
       "  <tbody>\n",
       "    <tr>\n",
       "      <th>0</th>\n",
       "      <td>1</td>\n",
       "      <td>897349</td>\n",
       "      <td>G</td>\n",
       "      <td>A</td>\n",
       "      <td>14505.p1</td>\n",
       "      <td>KLHL17</td>\n",
       "      <td>SYNONYMOUS_CODING</td>\n",
       "      <td>SILENT</td>\n",
       "      <td>K211</td>\n",
       "      <td>4</td>\n",
       "      <td>NM_198317.2</td>\n",
       "      <td>Y</td>\n",
       "      <td>both</td>\n",
       "    </tr>\n",
       "    <tr>\n",
       "      <th>1</th>\n",
       "      <td>1</td>\n",
       "      <td>1222518</td>\n",
       "      <td>C</td>\n",
       "      <td>A</td>\n",
       "      <td>11563.p1</td>\n",
       "      <td>SCNN1D</td>\n",
       "      <td>STOP_GAINED</td>\n",
       "      <td>NONSENSE</td>\n",
       "      <td>Y383*</td>\n",
       "      <td>9</td>\n",
       "      <td>NM_001130413.3</td>\n",
       "      <td>Y</td>\n",
       "      <td>both</td>\n",
       "    </tr>\n",
       "    <tr>\n",
       "      <th>2</th>\n",
       "      <td>1</td>\n",
       "      <td>1225729</td>\n",
       "      <td>G</td>\n",
       "      <td>A</td>\n",
       "      <td>12111.s1</td>\n",
       "      <td>SCNN1D</td>\n",
       "      <td>NON_SYNONYMOUS_CODING</td>\n",
       "      <td>MISSENSE</td>\n",
       "      <td>G581R</td>\n",
       "      <td>13</td>\n",
       "      <td>NM_001130413.3</td>\n",
       "      <td>Y</td>\n",
       "      <td>both</td>\n",
       "    </tr>\n",
       "    <tr>\n",
       "      <th>3</th>\n",
       "      <td>1</td>\n",
       "      <td>1230203</td>\n",
       "      <td>G</td>\n",
       "      <td>A</td>\n",
       "      <td>11138.s1</td>\n",
       "      <td>ACAP3</td>\n",
       "      <td>INTRON</td>\n",
       "      <td>NaN</td>\n",
       "      <td>NaN</td>\n",
       "      <td>19</td>\n",
       "      <td>NM_030649.2</td>\n",
       "      <td>ND</td>\n",
       "      <td>both</td>\n",
       "    </tr>\n",
       "    <tr>\n",
       "      <th>4</th>\n",
       "      <td>1</td>\n",
       "      <td>1235195</td>\n",
       "      <td>G</td>\n",
       "      <td>C</td>\n",
       "      <td>12687.p1</td>\n",
       "      <td>ACAP3</td>\n",
       "      <td>INTRON</td>\n",
       "      <td>NaN</td>\n",
       "      <td>NaN</td>\n",
       "      <td>9</td>\n",
       "      <td>NM_030649.2</td>\n",
       "      <td>ND</td>\n",
       "      <td>Krumm</td>\n",
       "    </tr>\n",
       "  </tbody>\n",
       "</table>\n",
       "</div>"
      ],
      "text/plain": [
       "  Chr      Pos Ref Alt    Sample    Gene                 Effect     Group  \\\n",
       "0   1   897349   G   A  14505.p1  KLHL17      SYNONYMOUS_CODING    SILENT   \n",
       "1   1  1222518   C   A  11563.p1  SCNN1D            STOP_GAINED  NONSENSE   \n",
       "2   1  1225729   G   A  12111.s1  SCNN1D  NON_SYNONYMOUS_CODING  MISSENSE   \n",
       "3   1  1230203   G   A  11138.s1   ACAP3                 INTRON       NaN   \n",
       "4   1  1235195   G   C  12687.p1   ACAP3                 INTRON       NaN   \n",
       "\n",
       "  AAChange  Exon      Transcript Validation  Study  \n",
       "0     K211     4     NM_198317.2          Y   both  \n",
       "1    Y383*     9  NM_001130413.3          Y   both  \n",
       "2    G581R    13  NM_001130413.3          Y   both  \n",
       "3      NaN    19     NM_030649.2         ND   both  \n",
       "4      NaN     9     NM_030649.2         ND  Krumm  "
      ]
     },
     "execution_count": 38,
     "metadata": {},
     "output_type": "execute_result"
    }
   ],
   "source": [
    "dnv_krumm = pd.read_csv('/mnt/scratch/asalomatov/data/SSC/SSCdeNovoCalls/SSC_exome_denovo_Ios_Krumm.csv', sep=\"\\t\")\n",
    "dnv_krumm.columns = [u'Chr', u'Pos', u'Ref', u'Alt',\n",
    "       u'Sample', u'Gene', u'Effect', u'Group', u'AAChange', u'Exon',\n",
    "       u'Transcript', u'Validation', u'Study']\n",
    "dnv_krumm.head()"
   ]
  },
  {
   "cell_type": "code",
   "execution_count": 35,
   "metadata": {
    "collapsed": false
   },
   "outputs": [
    {
     "data": {
      "text/plain": [
       "both        4226\n",
       "Krumm       1544\n",
       "Iossifov    1501\n",
       "dtype: int64"
      ]
     },
     "execution_count": 35,
     "metadata": {},
     "output_type": "execute_result"
    }
   ],
   "source": [
    "\n",
    "dnv_krumm.Study.value_counts()"
   ]
  },
  {
   "cell_type": "code",
   "execution_count": 91,
   "metadata": {
    "collapsed": false
   },
   "outputs": [
    {
     "data": {
      "text/plain": [
       "ND    4471\n",
       "Y     2737\n",
       "N       63\n",
       "dtype: int64"
      ]
     },
     "execution_count": 91,
     "metadata": {},
     "output_type": "execute_result"
    }
   ],
   "source": [
    "dnv_krumm.Validation.value_counts()\n",
    "                        "
   ]
  },
  {
   "cell_type": "markdown",
   "metadata": {},
   "source": [
    "Intoduce fam_pos, sample_pos fields."
   ]
  },
  {
   "cell_type": "code",
   "execution_count": 126,
   "metadata": {
    "collapsed": false
   },
   "outputs": [
    {
     "data": {
      "text/html": [
       "<div>\n",
       "<table border=\"1\" class=\"dataframe\">\n",
       "  <thead>\n",
       "    <tr style=\"text-align: right;\">\n",
       "      <th></th>\n",
       "      <th>Chr</th>\n",
       "      <th>Pos</th>\n",
       "      <th>Ref</th>\n",
       "      <th>Alt</th>\n",
       "      <th>Sample</th>\n",
       "      <th>Gene</th>\n",
       "      <th>Effect</th>\n",
       "      <th>Group</th>\n",
       "      <th>AAChange</th>\n",
       "      <th>Exon</th>\n",
       "      <th>Transcript</th>\n",
       "      <th>Validation</th>\n",
       "      <th>Study</th>\n",
       "      <th>fam_id</th>\n",
       "      <th>memb</th>\n",
       "      <th>fam_var</th>\n",
       "      <th>fam_memb_var</th>\n",
       "    </tr>\n",
       "  </thead>\n",
       "  <tbody>\n",
       "    <tr>\n",
       "      <th>0</th>\n",
       "      <td>1</td>\n",
       "      <td>897349</td>\n",
       "      <td>G</td>\n",
       "      <td>A</td>\n",
       "      <td>14505.p1</td>\n",
       "      <td>KLHL17</td>\n",
       "      <td>SYNONYMOUS_CODING</td>\n",
       "      <td>SILENT</td>\n",
       "      <td>K211</td>\n",
       "      <td>4</td>\n",
       "      <td>NM_198317.2</td>\n",
       "      <td>Y</td>\n",
       "      <td>both</td>\n",
       "      <td>14505</td>\n",
       "      <td>p1</td>\n",
       "      <td>14505_1_897349</td>\n",
       "      <td>14505.p1_1_897349</td>\n",
       "    </tr>\n",
       "    <tr>\n",
       "      <th>1</th>\n",
       "      <td>1</td>\n",
       "      <td>1222518</td>\n",
       "      <td>C</td>\n",
       "      <td>A</td>\n",
       "      <td>11563.p1</td>\n",
       "      <td>SCNN1D</td>\n",
       "      <td>STOP_GAINED</td>\n",
       "      <td>NONSENSE</td>\n",
       "      <td>Y383*</td>\n",
       "      <td>9</td>\n",
       "      <td>NM_001130413.3</td>\n",
       "      <td>Y</td>\n",
       "      <td>both</td>\n",
       "      <td>11563</td>\n",
       "      <td>p1</td>\n",
       "      <td>11563_1_1222518</td>\n",
       "      <td>11563.p1_1_1222518</td>\n",
       "    </tr>\n",
       "    <tr>\n",
       "      <th>2</th>\n",
       "      <td>1</td>\n",
       "      <td>1225729</td>\n",
       "      <td>G</td>\n",
       "      <td>A</td>\n",
       "      <td>12111.s1</td>\n",
       "      <td>SCNN1D</td>\n",
       "      <td>NON_SYNONYMOUS_CODING</td>\n",
       "      <td>MISSENSE</td>\n",
       "      <td>G581R</td>\n",
       "      <td>13</td>\n",
       "      <td>NM_001130413.3</td>\n",
       "      <td>Y</td>\n",
       "      <td>both</td>\n",
       "      <td>12111</td>\n",
       "      <td>s1</td>\n",
       "      <td>12111_1_1225729</td>\n",
       "      <td>12111.s1_1_1225729</td>\n",
       "    </tr>\n",
       "    <tr>\n",
       "      <th>3</th>\n",
       "      <td>1</td>\n",
       "      <td>1230203</td>\n",
       "      <td>G</td>\n",
       "      <td>A</td>\n",
       "      <td>11138.s1</td>\n",
       "      <td>ACAP3</td>\n",
       "      <td>INTRON</td>\n",
       "      <td>NaN</td>\n",
       "      <td>NaN</td>\n",
       "      <td>19</td>\n",
       "      <td>NM_030649.2</td>\n",
       "      <td>ND</td>\n",
       "      <td>both</td>\n",
       "      <td>11138</td>\n",
       "      <td>s1</td>\n",
       "      <td>11138_1_1230203</td>\n",
       "      <td>11138.s1_1_1230203</td>\n",
       "    </tr>\n",
       "    <tr>\n",
       "      <th>4</th>\n",
       "      <td>1</td>\n",
       "      <td>1235195</td>\n",
       "      <td>G</td>\n",
       "      <td>C</td>\n",
       "      <td>12687.p1</td>\n",
       "      <td>ACAP3</td>\n",
       "      <td>INTRON</td>\n",
       "      <td>NaN</td>\n",
       "      <td>NaN</td>\n",
       "      <td>9</td>\n",
       "      <td>NM_030649.2</td>\n",
       "      <td>ND</td>\n",
       "      <td>Krumm</td>\n",
       "      <td>12687</td>\n",
       "      <td>p1</td>\n",
       "      <td>12687_1_1235195</td>\n",
       "      <td>12687.p1_1_1235195</td>\n",
       "    </tr>\n",
       "  </tbody>\n",
       "</table>\n",
       "</div>"
      ],
      "text/plain": [
       "  Chr      Pos Ref Alt    Sample    Gene                 Effect     Group  \\\n",
       "0   1   897349   G   A  14505.p1  KLHL17      SYNONYMOUS_CODING    SILENT   \n",
       "1   1  1222518   C   A  11563.p1  SCNN1D            STOP_GAINED  NONSENSE   \n",
       "2   1  1225729   G   A  12111.s1  SCNN1D  NON_SYNONYMOUS_CODING  MISSENSE   \n",
       "3   1  1230203   G   A  11138.s1   ACAP3                 INTRON       NaN   \n",
       "4   1  1235195   G   C  12687.p1   ACAP3                 INTRON       NaN   \n",
       "\n",
       "  AAChange  Exon      Transcript Validation  Study fam_id memb  \\\n",
       "0     K211     4     NM_198317.2          Y   both  14505   p1   \n",
       "1    Y383*     9  NM_001130413.3          Y   both  11563   p1   \n",
       "2    G581R    13  NM_001130413.3          Y   both  12111   s1   \n",
       "3      NaN    19     NM_030649.2         ND   both  11138   s1   \n",
       "4      NaN     9     NM_030649.2         ND  Krumm  12687   p1   \n",
       "\n",
       "           fam_var        fam_memb_var  \n",
       "0   14505_1_897349   14505.p1_1_897349  \n",
       "1  11563_1_1222518  11563.p1_1_1222518  \n",
       "2  12111_1_1225729  12111.s1_1_1225729  \n",
       "3  11138_1_1230203  11138.s1_1_1230203  \n",
       "4  12687_1_1235195  12687.p1_1_1235195  "
      ]
     },
     "execution_count": 126,
     "metadata": {},
     "output_type": "execute_result"
    }
   ],
   "source": [
    "dnv_krumm['fam_id'] = dnv_krumm.Sample.apply(lambda x: x.split(\".\")[0])\n",
    "dnv_krumm['memb'] = dnv_krumm.Sample.apply(lambda x: x.split(\".\")[1])\n",
    "dnv_krumm['fam_var'] = dnv_krumm['fam_id'] + '_' + dnv_krumm['Chr'] + '_' + dnv_krumm['Pos'].astype(str)\n",
    "dnv_krumm['fam_memb_var'] = dnv_krumm['Sample'] + '_' + dnv_krumm['Chr'] + '_' + dnv_krumm['Pos'].astype(str)\n",
    "dnv_krumm.head()"
   ]
  },
  {
   "cell_type": "code",
   "execution_count": 98,
   "metadata": {
    "collapsed": false
   },
   "outputs": [
    {
     "data": {
      "text/plain": [
       "(7271, 16)"
      ]
     },
     "execution_count": 98,
     "metadata": {},
     "output_type": "execute_result"
    }
   ],
   "source": [
    "dnv_krumm.shape"
   ]
  },
  {
   "cell_type": "code",
   "execution_count": 101,
   "metadata": {
    "collapsed": false
   },
   "outputs": [
    {
     "data": {
      "text/plain": [
       "44"
      ]
     },
     "execution_count": 101,
     "metadata": {},
     "output_type": "execute_result"
    }
   ],
   "source": [
    "sum(dnv_krumm.fam_var.value_counts() == 2)"
   ]
  },
  {
   "cell_type": "markdown",
   "metadata": {},
   "source": [
    "## Now extract additiona info for Iossifov study.\n",
    "To convert from Iossifov table to vcf\n",
    "\n",
    "```\n",
    "cat ioss_mut_status.csv | \\\n",
    "grep -v ^validation | \\\n",
    "awk '{split($0,a,\",\"); print a[2]\"\\tIossifov\\t\"a[3]\"\\t\"a[4]\"\\t\"a[5]\"\\t\"a[6]\"\\t\"a[7]\"\\t\"a[8]\"\\t\"a[9]}' | \\\n",
    "~/projects/variants/variants/ios2vcf.py $GENOMEREF > ioss_mut_status_no_head.vcf\n",
    " \n",
    "```\n",
    "And then read it to table\n"
   ]
  },
  {
   "cell_type": "code",
   "execution_count": 43,
   "metadata": {
    "collapsed": false
   },
   "outputs": [
    {
     "data": {
      "text/html": [
       "<div>\n",
       "<table border=\"1\" class=\"dataframe\">\n",
       "  <thead>\n",
       "    <tr style=\"text-align: right;\">\n",
       "      <th></th>\n",
       "      <th>Chr</th>\n",
       "      <th>Pos</th>\n",
       "      <th>x1</th>\n",
       "      <th>Ref</th>\n",
       "      <th>Alt</th>\n",
       "      <th>x2</th>\n",
       "      <th>x3</th>\n",
       "      <th>Info</th>\n",
       "    </tr>\n",
       "  </thead>\n",
       "  <tbody>\n",
       "    <tr>\n",
       "      <th>0</th>\n",
       "      <td>1</td>\n",
       "      <td>34631390</td>\n",
       "      <td>.</td>\n",
       "      <td>CG</td>\n",
       "      <td>C</td>\n",
       "      <td>.</td>\n",
       "      <td>.</td>\n",
       "      <td>FAM=12030;MISC_INFO=12030__Iossifov__1:3463139...</td>\n",
       "    </tr>\n",
       "    <tr>\n",
       "      <th>1</th>\n",
       "      <td>1</td>\n",
       "      <td>108303413</td>\n",
       "      <td>.</td>\n",
       "      <td>AG</td>\n",
       "      <td>A</td>\n",
       "      <td>.</td>\n",
       "      <td>.</td>\n",
       "      <td>FAM=12087;MISC_INFO=12087__Iossifov__1:1083034...</td>\n",
       "    </tr>\n",
       "    <tr>\n",
       "      <th>2</th>\n",
       "      <td>10</td>\n",
       "      <td>21805727</td>\n",
       "      <td>.</td>\n",
       "      <td>TG</td>\n",
       "      <td>T</td>\n",
       "      <td>.</td>\n",
       "      <td>.</td>\n",
       "      <td>FAM=11925;MISC_INFO=11925__Iossifov__10:218057...</td>\n",
       "    </tr>\n",
       "    <tr>\n",
       "      <th>3</th>\n",
       "      <td>11</td>\n",
       "      <td>866614</td>\n",
       "      <td>.</td>\n",
       "      <td>AC</td>\n",
       "      <td>A</td>\n",
       "      <td>.</td>\n",
       "      <td>.</td>\n",
       "      <td>FAM=11457;MISC_INFO=11457__Iossifov__11:866615...</td>\n",
       "    </tr>\n",
       "    <tr>\n",
       "      <th>4</th>\n",
       "      <td>12</td>\n",
       "      <td>76793728</td>\n",
       "      <td>.</td>\n",
       "      <td>TTCTTC</td>\n",
       "      <td>T</td>\n",
       "      <td>.</td>\n",
       "      <td>.</td>\n",
       "      <td>FAM=11731;MISC_INFO=11731__Iossifov__12:767937...</td>\n",
       "    </tr>\n",
       "  </tbody>\n",
       "</table>\n",
       "</div>"
      ],
      "text/plain": [
       "  Chr        Pos x1     Ref Alt x2 x3  \\\n",
       "0   1   34631390  .      CG   C  .  .   \n",
       "1   1  108303413  .      AG   A  .  .   \n",
       "2  10   21805727  .      TG   T  .  .   \n",
       "3  11     866614  .      AC   A  .  .   \n",
       "4  12   76793728  .  TTCTTC   T  .  .   \n",
       "\n",
       "                                                Info  \n",
       "0  FAM=12030;MISC_INFO=12030__Iossifov__1:3463139...  \n",
       "1  FAM=12087;MISC_INFO=12087__Iossifov__1:1083034...  \n",
       "2  FAM=11925;MISC_INFO=11925__Iossifov__10:218057...  \n",
       "3  FAM=11457;MISC_INFO=11457__Iossifov__11:866615...  \n",
       "4  FAM=11731;MISC_INFO=11731__Iossifov__12:767937...  "
      ]
     },
     "execution_count": 43,
     "metadata": {},
     "output_type": "execute_result"
    }
   ],
   "source": [
    "dnv_ios_extra = pd.read_csv('/mnt/scratch/asalomatov/data/SSC/SSCdeNovoCalls/ioss_mut_status_no_head.vcf', \n",
    "                            sep=\"\\t\", header=None)\n",
    "dnv_ios_extra.columns = [u'Chr', u'Pos', u'x1', u'Ref', u'Alt',\n",
    "       u'x2', u'x3', u'Info']\n",
    "dnv_ios_extra.head()"
   ]
  },
  {
   "cell_type": "markdown",
   "metadata": {},
   "source": [
    "Parse Info column for fam_id, genotype, from which determine if theis variant belongs to p1 of s1."
   ]
  },
  {
   "cell_type": "code",
   "execution_count": 46,
   "metadata": {
    "collapsed": false
   },
   "outputs": [
    {
     "data": {
      "text/html": [
       "<div>\n",
       "<table border=\"1\" class=\"dataframe\">\n",
       "  <thead>\n",
       "    <tr style=\"text-align: right;\">\n",
       "      <th></th>\n",
       "      <th>Chr</th>\n",
       "      <th>Pos</th>\n",
       "      <th>x1</th>\n",
       "      <th>Ref</th>\n",
       "      <th>Alt</th>\n",
       "      <th>x2</th>\n",
       "      <th>x3</th>\n",
       "      <th>Info</th>\n",
       "      <th>fam_id</th>\n",
       "    </tr>\n",
       "  </thead>\n",
       "  <tbody>\n",
       "    <tr>\n",
       "      <th>0</th>\n",
       "      <td>1</td>\n",
       "      <td>34631390</td>\n",
       "      <td>.</td>\n",
       "      <td>CG</td>\n",
       "      <td>C</td>\n",
       "      <td>.</td>\n",
       "      <td>.</td>\n",
       "      <td>FAM=12030;MISC_INFO=12030__Iossifov__1:3463139...</td>\n",
       "      <td>12030</td>\n",
       "    </tr>\n",
       "    <tr>\n",
       "      <th>1</th>\n",
       "      <td>1</td>\n",
       "      <td>108303413</td>\n",
       "      <td>.</td>\n",
       "      <td>AG</td>\n",
       "      <td>A</td>\n",
       "      <td>.</td>\n",
       "      <td>.</td>\n",
       "      <td>FAM=12087;MISC_INFO=12087__Iossifov__1:1083034...</td>\n",
       "      <td>12087</td>\n",
       "    </tr>\n",
       "    <tr>\n",
       "      <th>2</th>\n",
       "      <td>10</td>\n",
       "      <td>21805727</td>\n",
       "      <td>.</td>\n",
       "      <td>TG</td>\n",
       "      <td>T</td>\n",
       "      <td>.</td>\n",
       "      <td>.</td>\n",
       "      <td>FAM=11925;MISC_INFO=11925__Iossifov__10:218057...</td>\n",
       "      <td>11925</td>\n",
       "    </tr>\n",
       "    <tr>\n",
       "      <th>3</th>\n",
       "      <td>11</td>\n",
       "      <td>866614</td>\n",
       "      <td>.</td>\n",
       "      <td>AC</td>\n",
       "      <td>A</td>\n",
       "      <td>.</td>\n",
       "      <td>.</td>\n",
       "      <td>FAM=11457;MISC_INFO=11457__Iossifov__11:866615...</td>\n",
       "      <td>11457</td>\n",
       "    </tr>\n",
       "    <tr>\n",
       "      <th>4</th>\n",
       "      <td>12</td>\n",
       "      <td>76793728</td>\n",
       "      <td>.</td>\n",
       "      <td>TTCTTC</td>\n",
       "      <td>T</td>\n",
       "      <td>.</td>\n",
       "      <td>.</td>\n",
       "      <td>FAM=11731;MISC_INFO=11731__Iossifov__12:767937...</td>\n",
       "      <td>11731</td>\n",
       "    </tr>\n",
       "  </tbody>\n",
       "</table>\n",
       "</div>"
      ],
      "text/plain": [
       "  Chr        Pos x1     Ref Alt x2 x3  \\\n",
       "0   1   34631390  .      CG   C  .  .   \n",
       "1   1  108303413  .      AG   A  .  .   \n",
       "2  10   21805727  .      TG   T  .  .   \n",
       "3  11     866614  .      AC   A  .  .   \n",
       "4  12   76793728  .  TTCTTC   T  .  .   \n",
       "\n",
       "                                                Info fam_id  \n",
       "0  FAM=12030;MISC_INFO=12030__Iossifov__1:3463139...  12030  \n",
       "1  FAM=12087;MISC_INFO=12087__Iossifov__1:1083034...  12087  \n",
       "2  FAM=11925;MISC_INFO=11925__Iossifov__10:218057...  11925  \n",
       "3  FAM=11457;MISC_INFO=11457__Iossifov__11:866615...  11457  \n",
       "4  FAM=11731;MISC_INFO=11731__Iossifov__12:767937...  11731  "
      ]
     },
     "execution_count": 46,
     "metadata": {},
     "output_type": "execute_result"
    }
   ],
   "source": [
    "dnv_ios_extra['fam_id'] = dnv_ios_extra.Info.apply(lambda x: x.split(\";\")[0].split(\"=\")[1])\n",
    "dnv_ios_extra.head()"
   ]
  },
  {
   "cell_type": "code",
   "execution_count": 49,
   "metadata": {
    "collapsed": false
   },
   "outputs": [],
   "source": [
    "dnv_ios_extra['Study'] = dnv_ios_extra.Info.apply(lambda x: x.split(\";\")[1].split(\"=\")[1].split(\"__\")[1])\n",
    "#dnv_ios_extra.head()"
   ]
  },
  {
   "cell_type": "code",
   "execution_count": 64,
   "metadata": {
    "collapsed": false
   },
   "outputs": [],
   "source": [
    "def myf(x):\n",
    "    '''extend a few line that are missing status'''\n",
    "    y = x.split(\";\")[1].split(\"=\")[1].split(\"__\")\n",
    "    if len(y) == 8:\n",
    "        y += u'zzz'\n",
    "    return \"__\".join(y)\n",
    "dnv_ios_extra['Info1'] = dnv_ios_extra.Info.apply(myf)"
   ]
  },
  {
   "cell_type": "code",
   "execution_count": 77,
   "metadata": {
    "collapsed": false
   },
   "outputs": [
    {
     "data": {
      "text/html": [
       "<div>\n",
       "<table border=\"1\" class=\"dataframe\">\n",
       "  <thead>\n",
       "    <tr style=\"text-align: right;\">\n",
       "      <th></th>\n",
       "      <th>Chr</th>\n",
       "      <th>Pos</th>\n",
       "      <th>x1</th>\n",
       "      <th>Ref</th>\n",
       "      <th>Alt</th>\n",
       "      <th>x2</th>\n",
       "      <th>x3</th>\n",
       "      <th>Info</th>\n",
       "      <th>fam_id</th>\n",
       "      <th>Study</th>\n",
       "      <th>Info1</th>\n",
       "      <th>gt_ios</th>\n",
       "      <th>status_ios</th>\n",
       "    </tr>\n",
       "  </thead>\n",
       "  <tbody>\n",
       "    <tr>\n",
       "      <th>0</th>\n",
       "      <td>1</td>\n",
       "      <td>34631390</td>\n",
       "      <td>.</td>\n",
       "      <td>CG</td>\n",
       "      <td>C</td>\n",
       "      <td>.</td>\n",
       "      <td>.</td>\n",
       "      <td>FAM=12030;MISC_INFO=12030__Iossifov__1:3463139...</td>\n",
       "      <td>12030</td>\n",
       "      <td>Iossifov</td>\n",
       "      <td>12030__Iossifov__1:34631391__del(1)__2_2_1_2/0...</td>\n",
       "      <td>2_2_1_2</td>\n",
       "      <td>repeat</td>\n",
       "    </tr>\n",
       "    <tr>\n",
       "      <th>1</th>\n",
       "      <td>1</td>\n",
       "      <td>108303413</td>\n",
       "      <td>.</td>\n",
       "      <td>AG</td>\n",
       "      <td>A</td>\n",
       "      <td>.</td>\n",
       "      <td>.</td>\n",
       "      <td>FAM=12087;MISC_INFO=12087__Iossifov__1:1083034...</td>\n",
       "      <td>12087</td>\n",
       "      <td>Iossifov</td>\n",
       "      <td>12087__Iossifov__1:108303414__del(1)__2_2_1/0_...</td>\n",
       "      <td>2_2_1</td>\n",
       "      <td>valid</td>\n",
       "    </tr>\n",
       "    <tr>\n",
       "      <th>2</th>\n",
       "      <td>10</td>\n",
       "      <td>21805727</td>\n",
       "      <td>.</td>\n",
       "      <td>TG</td>\n",
       "      <td>T</td>\n",
       "      <td>.</td>\n",
       "      <td>.</td>\n",
       "      <td>FAM=11925;MISC_INFO=11925__Iossifov__10:218057...</td>\n",
       "      <td>11925</td>\n",
       "      <td>Iossifov</td>\n",
       "      <td>11925__Iossifov__10:21805728__del(1)__2_2_1/0_...</td>\n",
       "      <td>2_2_1</td>\n",
       "      <td>failed</td>\n",
       "    </tr>\n",
       "    <tr>\n",
       "      <th>3</th>\n",
       "      <td>11</td>\n",
       "      <td>866614</td>\n",
       "      <td>.</td>\n",
       "      <td>AC</td>\n",
       "      <td>A</td>\n",
       "      <td>.</td>\n",
       "      <td>.</td>\n",
       "      <td>FAM=11457;MISC_INFO=11457__Iossifov__11:866615...</td>\n",
       "      <td>11457</td>\n",
       "      <td>Iossifov</td>\n",
       "      <td>11457__Iossifov__11:866615__del(1)__2_2_1_2/0_...</td>\n",
       "      <td>2_2_1_2</td>\n",
       "      <td>valid</td>\n",
       "    </tr>\n",
       "    <tr>\n",
       "      <th>4</th>\n",
       "      <td>12</td>\n",
       "      <td>76793728</td>\n",
       "      <td>.</td>\n",
       "      <td>TTCTTC</td>\n",
       "      <td>T</td>\n",
       "      <td>.</td>\n",
       "      <td>.</td>\n",
       "      <td>FAM=11731;MISC_INFO=11731__Iossifov__12:767937...</td>\n",
       "      <td>11731</td>\n",
       "      <td>Iossifov</td>\n",
       "      <td>11731__Iossifov__12:76793729__del(5)__2_2_1_2/...</td>\n",
       "      <td>2_2_1_2</td>\n",
       "      <td>valid</td>\n",
       "    </tr>\n",
       "  </tbody>\n",
       "</table>\n",
       "</div>"
      ],
      "text/plain": [
       "  Chr        Pos x1     Ref Alt x2 x3  \\\n",
       "0   1   34631390  .      CG   C  .  .   \n",
       "1   1  108303413  .      AG   A  .  .   \n",
       "2  10   21805727  .      TG   T  .  .   \n",
       "3  11     866614  .      AC   A  .  .   \n",
       "4  12   76793728  .  TTCTTC   T  .  .   \n",
       "\n",
       "                                                Info fam_id     Study  \\\n",
       "0  FAM=12030;MISC_INFO=12030__Iossifov__1:3463139...  12030  Iossifov   \n",
       "1  FAM=12087;MISC_INFO=12087__Iossifov__1:1083034...  12087  Iossifov   \n",
       "2  FAM=11925;MISC_INFO=11925__Iossifov__10:218057...  11925  Iossifov   \n",
       "3  FAM=11457;MISC_INFO=11457__Iossifov__11:866615...  11457  Iossifov   \n",
       "4  FAM=11731;MISC_INFO=11731__Iossifov__12:767937...  11731  Iossifov   \n",
       "\n",
       "                                               Info1   gt_ios status_ios  \n",
       "0  12030__Iossifov__1:34631391__del(1)__2_2_1_2/0...  2_2_1_2     repeat  \n",
       "1  12087__Iossifov__1:108303414__del(1)__2_2_1/0_...    2_2_1      valid  \n",
       "2  11925__Iossifov__10:21805728__del(1)__2_2_1/0_...    2_2_1     failed  \n",
       "3  11457__Iossifov__11:866615__del(1)__2_2_1_2/0_...  2_2_1_2      valid  \n",
       "4  11731__Iossifov__12:76793729__del(5)__2_2_1_2/...  2_2_1_2      valid  "
      ]
     },
     "execution_count": 77,
     "metadata": {},
     "output_type": "execute_result"
    }
   ],
   "source": [
    "dnv_ios_extra.head()"
   ]
  },
  {
   "cell_type": "code",
   "execution_count": 115,
   "metadata": {
    "collapsed": false
   },
   "outputs": [
    {
     "data": {
      "text/plain": [
       "0             E:_<100\n",
       "1    E:_3_not_covered\n",
       "2             E:_<100\n",
       "3             2_2_1_2\n",
       "4             2_2_1_2\n",
       "Name: Info1, dtype: object"
      ]
     },
     "execution_count": 115,
     "metadata": {},
     "output_type": "execute_result"
    }
   ],
   "source": [
    "dnv_ios_extra.Info1.apply(lambda x: x.split(\"__\")[5].split(\"/\")[0]).head()"
   ]
  },
  {
   "cell_type": "code",
   "execution_count": 76,
   "metadata": {
    "collapsed": false
   },
   "outputs": [],
   "source": [
    "dnv_ios_extra['gt_ios'] = dnv_ios_extra.Info1.apply(lambda x: x.split(\"__\")[4].split(\"/\")[0])\n",
    "dnv_ios_extra['status_ios'] = dnv_ios_extra.Info1.apply(lambda x: x.split(\"__\")[8])"
   ]
  },
  {
   "cell_type": "code",
   "execution_count": 78,
   "metadata": {
    "collapsed": false
   },
   "outputs": [
    {
     "data": {
      "text/plain": [
       "valid                   3203\n",
       "invalid                  507\n",
       "failed                   195\n",
       "z                         56\n",
       "repeat                    32\n",
       "inconclusive              16\n",
       "inherited                  4\n",
       "no_dna                     3\n",
       "valid??                    2\n",
       "invalid?                   2\n",
       "0                          2\n",
       "failed/invalid             1\n",
       "failed??                   1\n",
       "primer_design_failed       1\n",
       "dtype: int64"
      ]
     },
     "execution_count": 78,
     "metadata": {},
     "output_type": "execute_result"
    }
   ],
   "source": [
    "dnv_ios_extra.status_ios.value_counts()"
   ]
  },
  {
   "cell_type": "code",
   "execution_count": 80,
   "metadata": {
    "collapsed": false
   },
   "outputs": [],
   "source": [
    "dnv_ios_extra['num_memb'] = dnv_ios_extra.gt_ios.apply(lambda x: len(x.split(\"_\")))"
   ]
  },
  {
   "cell_type": "code",
   "execution_count": 88,
   "metadata": {
    "collapsed": false
   },
   "outputs": [],
   "source": [
    "def myf1(x):\n",
    "    '''in a quad, determine if p1 or s1 have variant'''\n",
    "    if x['num_memb'] == 3:\n",
    "        return 'p1'\n",
    "    elif x['num_memb'] == 4:\n",
    "        p1_gt, s1_gt = x['gt_ios'].split(\"_\")[2:]\n",
    "        if p1_gt == '2' and s1_gt != '2':\n",
    "            return 's1'\n",
    "        elif p1_gt != '2' and s1_gt == '2':\n",
    "            return 'p1'\n",
    "        else:\n",
    "            return 'other'\n",
    "dnv_ios_extra['memb'] = dnv_ios_extra.apply(myf1, axis=1)"
   ]
  },
  {
   "cell_type": "code",
   "execution_count": 90,
   "metadata": {
    "collapsed": false
   },
   "outputs": [
    {
     "data": {
      "text/plain": [
       "2_2_1_1    60\n",
       "1_2_1_1    56\n",
       "2_1_1_1    38\n",
       "2_1_0_1    18\n",
       "1_1_1_1    10\n",
       "2_1_1_0     9\n",
       "2_1_0_0     4\n",
       "1_1_0_0     1\n",
       "2_0_1_1     1\n",
       "2_1_2_2     1\n",
       "dtype: int64"
      ]
     },
     "execution_count": 90,
     "metadata": {},
     "output_type": "execute_result"
    }
   ],
   "source": [
    "dnv_ios_extra[dnv_ios_extra.memb.isin(['other'])].gt_ios.value_counts()"
   ]
  },
  {
   "cell_type": "markdown",
   "metadata": {},
   "source": [
    "Let's ignore the ambiguous cases for now, and remove 'other', as well as 'memb' is Null"
   ]
  },
  {
   "cell_type": "code",
   "execution_count": 102,
   "metadata": {
    "collapsed": true
   },
   "outputs": [],
   "source": [
    "dnv_ios_extra = dnv_ios_extra[~dnv_ios_extra.memb.isin(['other'])]"
   ]
  },
  {
   "cell_type": "code",
   "execution_count": 116,
   "metadata": {
    "collapsed": true
   },
   "outputs": [],
   "source": [
    "dnv_ios_extra = dnv_ios_extra[~dnv_ios_extra.memb.isnull()]"
   ]
  },
  {
   "cell_type": "code",
   "execution_count": 136,
   "metadata": {
    "collapsed": false
   },
   "outputs": [
    {
     "data": {
      "text/plain": [
       "Index([         u'Chr',          u'Pos',           u'x1',          u'Ref',\n",
       "                u'Alt',           u'x2',           u'x3',         u'Info',\n",
       "             u'fam_id',        u'Study',        u'Info1',       u'gt_ios',\n",
       "         u'status_ios',     u'num_memb',         u'memb',       u'Status',\n",
       "             u'Sample', u'fam_memb_var',   u'Validation'],\n",
       "      dtype='object')"
      ]
     },
     "execution_count": 136,
     "metadata": {},
     "output_type": "execute_result"
    }
   ],
   "source": [
    "dnv_ios_extra.loc[:,'Validation'] = None\n",
    "dnv_ios_extra.loc[dnv_ios_extra.status_ios.isin(['valid']), 'Validation'] = 'Y'\n",
    "dnv_ios_extra.loc[dnv_ios_extra.status_ios.isin(['invalid']), 'Validation'] = 'N'\n",
    "dnv_ios_extra.loc[dnv_ios_extra.status_ios.isin(['inherited']), 'Validation'] = 'N'\n",
    "\n",
    "dnv_ios_extra.columns"
   ]
  },
  {
   "cell_type": "code",
   "execution_count": 137,
   "metadata": {
    "collapsed": false
   },
   "outputs": [
    {
     "data": {
      "text/plain": [
       "Chr             0\n",
       "Pos             0\n",
       "x1              0\n",
       "Ref             0\n",
       "Alt             0\n",
       "x2              0\n",
       "x3              0\n",
       "Info            0\n",
       "fam_id          0\n",
       "Study           0\n",
       "Info1           0\n",
       "gt_ios          0\n",
       "status_ios      0\n",
       "num_memb        0\n",
       "memb            0\n",
       "Status          0\n",
       "Sample          0\n",
       "fam_memb_var    0\n",
       "Validation      0\n",
       "dtype: int64"
      ]
     },
     "execution_count": 137,
     "metadata": {},
     "output_type": "execute_result"
    }
   ],
   "source": [
    "dnv_ios_extra.isnull().sum()\n",
    "#dnv_ios_extra.gt_ios.value_counts()"
   ]
  },
  {
   "cell_type": "code",
   "execution_count": 138,
   "metadata": {
    "collapsed": true
   },
   "outputs": [],
   "source": [
    "dnv_ios_extra = dnv_ios_extra[~dnv_ios_extra.Validation.isnull()]"
   ]
  },
  {
   "cell_type": "code",
   "execution_count": 139,
   "metadata": {
    "collapsed": false
   },
   "outputs": [
    {
     "data": {
      "text/plain": [
       "Y    3141\n",
       "N     435\n",
       "dtype: int64"
      ]
     },
     "execution_count": 139,
     "metadata": {},
     "output_type": "execute_result"
    }
   ],
   "source": [
    "dnv_ios_extra.isnull().sum()\n",
    "dnv_ios_extra.Validation.value_counts()"
   ]
  },
  {
   "cell_type": "code",
   "execution_count": 127,
   "metadata": {
    "collapsed": true
   },
   "outputs": [],
   "source": [
    "dnv_ios_extra['Sample'] = dnv_ios_extra['fam_id'] + '.' + dnv_ios_extra['memb']\n",
    "dnv_ios_extra['fam_memb_var'] = dnv_ios_extra['Sample'] + '_' + dnv_ios_extra['Chr'] + '_' + dnv_ios_extra['Pos'].astype(str)\n"
   ]
  },
  {
   "cell_type": "code",
   "execution_count": 140,
   "metadata": {
    "collapsed": false
   },
   "outputs": [
    {
     "data": {
      "text/plain": [
       "N    371\n",
       "Y     77\n",
       "dtype: int64"
      ]
     },
     "execution_count": 140,
     "metadata": {},
     "output_type": "execute_result"
    }
   ],
   "source": [
    "dnv_ios_extra[~dnv_ios_extra.fam_memb_var.isin(dnv_krumm.fam_memb_var)]['Validation'].value_counts()"
   ]
  },
  {
   "cell_type": "code",
   "execution_count": 143,
   "metadata": {
    "collapsed": false
   },
   "outputs": [],
   "source": [
    "dnv_ios_kr = pd.concat([dnv_krumm[['Sample','Chr','Pos','Ref','Alt', 'Validation', 'Study']], \n",
    "    dnv_ios_extra[['Sample','Chr','Pos','Ref','Alt', 'Validation', 'Study']][~dnv_ios_extra.fam_memb_var.isin(\n",
    "                dnv_krumm.fam_memb_var)]])"
   ]
  },
  {
   "cell_type": "code",
   "execution_count": 156,
   "metadata": {
    "collapsed": false
   },
   "outputs": [
    {
     "data": {
      "text/html": [
       "<div>\n",
       "<table border=\"1\" class=\"dataframe\">\n",
       "  <thead>\n",
       "    <tr style=\"text-align: right;\">\n",
       "      <th></th>\n",
       "      <th>Sample</th>\n",
       "      <th>Chr</th>\n",
       "      <th>Pos</th>\n",
       "      <th>Ref</th>\n",
       "      <th>Alt</th>\n",
       "      <th>Validation</th>\n",
       "      <th>Study</th>\n",
       "      <th>vartype</th>\n",
       "    </tr>\n",
       "  </thead>\n",
       "  <tbody>\n",
       "    <tr>\n",
       "      <th>0</th>\n",
       "      <td>14505.p1</td>\n",
       "      <td>1</td>\n",
       "      <td>897349</td>\n",
       "      <td>G</td>\n",
       "      <td>A</td>\n",
       "      <td>Y</td>\n",
       "      <td>both</td>\n",
       "      <td>snp</td>\n",
       "    </tr>\n",
       "    <tr>\n",
       "      <th>1</th>\n",
       "      <td>11563.p1</td>\n",
       "      <td>1</td>\n",
       "      <td>1222518</td>\n",
       "      <td>C</td>\n",
       "      <td>A</td>\n",
       "      <td>Y</td>\n",
       "      <td>both</td>\n",
       "      <td>snp</td>\n",
       "    </tr>\n",
       "    <tr>\n",
       "      <th>2</th>\n",
       "      <td>12111.s1</td>\n",
       "      <td>1</td>\n",
       "      <td>1225729</td>\n",
       "      <td>G</td>\n",
       "      <td>A</td>\n",
       "      <td>Y</td>\n",
       "      <td>both</td>\n",
       "      <td>snp</td>\n",
       "    </tr>\n",
       "    <tr>\n",
       "      <th>3</th>\n",
       "      <td>11138.s1</td>\n",
       "      <td>1</td>\n",
       "      <td>1230203</td>\n",
       "      <td>G</td>\n",
       "      <td>A</td>\n",
       "      <td>ND</td>\n",
       "      <td>both</td>\n",
       "      <td>snp</td>\n",
       "    </tr>\n",
       "    <tr>\n",
       "      <th>4</th>\n",
       "      <td>12687.p1</td>\n",
       "      <td>1</td>\n",
       "      <td>1235195</td>\n",
       "      <td>G</td>\n",
       "      <td>C</td>\n",
       "      <td>ND</td>\n",
       "      <td>Krumm</td>\n",
       "      <td>snp</td>\n",
       "    </tr>\n",
       "  </tbody>\n",
       "</table>\n",
       "</div>"
      ],
      "text/plain": [
       "     Sample Chr      Pos Ref Alt Validation  Study vartype\n",
       "0  14505.p1   1   897349   G   A          Y   both     snp\n",
       "1  11563.p1   1  1222518   C   A          Y   both     snp\n",
       "2  12111.s1   1  1225729   G   A          Y   both     snp\n",
       "3  11138.s1   1  1230203   G   A         ND   both     snp\n",
       "4  12687.p1   1  1235195   G   C         ND  Krumm     snp"
      ]
     },
     "execution_count": 156,
     "metadata": {},
     "output_type": "execute_result"
    }
   ],
   "source": [
    "dnv_ios_kr.head()"
   ]
  },
  {
   "cell_type": "code",
   "execution_count": 155,
   "metadata": {
    "collapsed": true
   },
   "outputs": [],
   "source": [
    "dnv_ios_kr['vartype'] = dnv_ios_kr.apply(func.varType, axis=1)"
   ]
  },
  {
   "cell_type": "code",
   "execution_count": 145,
   "metadata": {
    "collapsed": false
   },
   "outputs": [
    {
     "data": {
      "text/plain": [
       "both        4226\n",
       "Iossifov    1949\n",
       "Krumm       1544\n",
       "dtype: int64"
      ]
     },
     "execution_count": 145,
     "metadata": {},
     "output_type": "execute_result"
    }
   ],
   "source": [
    "dnv_ios_kr.Study.value_counts()"
   ]
  },
  {
   "cell_type": "code",
   "execution_count": 146,
   "metadata": {
    "collapsed": false
   },
   "outputs": [
    {
     "data": {
      "text/plain": [
       "ND    4471\n",
       "Y     2814\n",
       "N      434\n",
       "dtype: int64"
      ]
     },
     "execution_count": 146,
     "metadata": {},
     "output_type": "execute_result"
    }
   ],
   "source": [
    "dnv_ios_kr.Validation.value_counts()"
   ]
  },
  {
   "cell_type": "code",
   "execution_count": 157,
   "metadata": {
    "collapsed": false
   },
   "outputs": [
    {
     "data": {
      "text/plain": [
       "Study     vartype  Validation\n",
       "Iossifov  indel    N              150\n",
       "                   ND             107\n",
       "                   Y              147\n",
       "          snp      N              221\n",
       "                   ND             772\n",
       "                   Y              552\n",
       "Krumm     indel    N               15\n",
       "                   ND             133\n",
       "                   Y               12\n",
       "          snp      N               48\n",
       "                   ND            1271\n",
       "                   Y               65\n",
       "both      indel    ND             107\n",
       "                   Y              233\n",
       "          snp      ND            2081\n",
       "                   Y             1805\n",
       "dtype: int64"
      ]
     },
     "execution_count": 157,
     "metadata": {},
     "output_type": "execute_result"
    }
   ],
   "source": [
    "dnv_ios_kr.groupby(['Study', 'vartype', 'Validation']).apply(len)"
   ]
  },
  {
   "cell_type": "markdown",
   "metadata": {},
   "source": [
    "#### Save known SSC de novo"
   ]
  },
  {
   "cell_type": "code",
   "execution_count": 158,
   "metadata": {
    "collapsed": true
   },
   "outputs": [],
   "source": [
    "dnv_ios_kr.to_csv(\"/mnt/scratch/asalomatov/data/SSC/SSCdeNovoCalls/ssc_denovo_clean.tsv\", sep=\"\\t\", index=False) "
   ]
  },
  {
   "cell_type": "code",
   "execution_count": null,
   "metadata": {
    "collapsed": true
   },
   "outputs": [],
   "source": []
  },
  {
   "cell_type": "code",
   "execution_count": null,
   "metadata": {
    "collapsed": true
   },
   "outputs": [],
   "source": []
  },
  {
   "cell_type": "code",
   "execution_count": 13,
   "metadata": {
    "collapsed": true
   },
   "outputs": [],
   "source": [
    "# %load extractFeaturesFromVCF.py\n",
    "import os\n",
    "import sys\n",
    "sys.path.insert(0, '/mnt/xfs1/home/asalomatov/projects/variants/variants')\n",
    "import variants\n",
    "import ped\n",
    "\n",
    "import func\n",
    "import features_vcf as fv\n",
    "import pandas as pd\n",
    "import numpy as np"
   ]
  },
  {
   "cell_type": "code",
   "execution_count": 14,
   "metadata": {
    "collapsed": false
   },
   "outputs": [
    {
     "name": "stdout",
     "output_type": "stream",
     "text": [
      "1  substitutions found\n"
     ]
    },
    {
     "data": {
      "text/html": [
       "<div>\n",
       "<table border=\"1\" class=\"dataframe\">\n",
       "  <thead>\n",
       "    <tr style=\"text-align: right;\">\n",
       "      <th></th>\n",
       "      <th>fam_id</th>\n",
       "      <th>ind_id</th>\n",
       "      <th>fa_id</th>\n",
       "      <th>mo_id</th>\n",
       "      <th>sex</th>\n",
       "      <th>pheno</th>\n",
       "      <th>collection</th>\n",
       "      <th>vcf</th>\n",
       "    </tr>\n",
       "  </thead>\n",
       "  <tbody>\n",
       "    <tr>\n",
       "      <th>0</th>\n",
       "      <td>11000</td>\n",
       "      <td>11000.mo</td>\n",
       "      <td>None</td>\n",
       "      <td>None</td>\n",
       "      <td>2</td>\n",
       "      <td>1</td>\n",
       "      <td>SSC</td>\n",
       "      <td>/mnt/scratch/asalomatov/data/SSC/vcf/raw/11000...</td>\n",
       "    </tr>\n",
       "    <tr>\n",
       "      <th>1</th>\n",
       "      <td>11000</td>\n",
       "      <td>11000.p1</td>\n",
       "      <td>11000.fa</td>\n",
       "      <td>11000.mo</td>\n",
       "      <td>1</td>\n",
       "      <td>2</td>\n",
       "      <td>SSC</td>\n",
       "      <td>/mnt/scratch/asalomatov/data/SSC/vcf/raw/11000...</td>\n",
       "    </tr>\n",
       "    <tr>\n",
       "      <th>2</th>\n",
       "      <td>11000</td>\n",
       "      <td>11000.s1</td>\n",
       "      <td>11000.fa</td>\n",
       "      <td>11000.mo</td>\n",
       "      <td>1</td>\n",
       "      <td>1</td>\n",
       "      <td>SSC</td>\n",
       "      <td>/mnt/scratch/asalomatov/data/SSC/vcf/raw/11000...</td>\n",
       "    </tr>\n",
       "    <tr>\n",
       "      <th>3</th>\n",
       "      <td>11001</td>\n",
       "      <td>11001.fa</td>\n",
       "      <td>None</td>\n",
       "      <td>None</td>\n",
       "      <td>1</td>\n",
       "      <td>1</td>\n",
       "      <td>SSC</td>\n",
       "      <td>/mnt/scratch/asalomatov/data/SSC/vcf/raw/11001...</td>\n",
       "    </tr>\n",
       "    <tr>\n",
       "      <th>4</th>\n",
       "      <td>11001</td>\n",
       "      <td>11001.mo</td>\n",
       "      <td>None</td>\n",
       "      <td>None</td>\n",
       "      <td>2</td>\n",
       "      <td>1</td>\n",
       "      <td>SSC</td>\n",
       "      <td>/mnt/scratch/asalomatov/data/SSC/vcf/raw/11001...</td>\n",
       "    </tr>\n",
       "  </tbody>\n",
       "</table>\n",
       "</div>"
      ],
      "text/plain": [
       "   fam_id    ind_id     fa_id     mo_id  sex  pheno collection  \\\n",
       "0   11000  11000.mo      None      None    2      1        SSC   \n",
       "1   11000  11000.p1  11000.fa  11000.mo    1      2        SSC   \n",
       "2   11000  11000.s1  11000.fa  11000.mo    1      1        SSC   \n",
       "3   11001  11001.fa      None      None    1      1        SSC   \n",
       "4   11001  11001.mo      None      None    2      1        SSC   \n",
       "\n",
       "                                                 vcf  \n",
       "0  /mnt/scratch/asalomatov/data/SSC/vcf/raw/11000...  \n",
       "1  /mnt/scratch/asalomatov/data/SSC/vcf/raw/11000...  \n",
       "2  /mnt/scratch/asalomatov/data/SSC/vcf/raw/11000...  \n",
       "3  /mnt/scratch/asalomatov/data/SSC/vcf/raw/11001...  \n",
       "4  /mnt/scratch/asalomatov/data/SSC/vcf/raw/11001...  "
      ]
     },
     "execution_count": 14,
     "metadata": {},
     "output_type": "execute_result"
    }
   ],
   "source": [
    "###SSC\n",
    "infile_ped = '/mnt/scratch/asalomatov/data/SSC/SSCped/SSC.ped'\n",
    "myped = ped.Ped(infile_ped, ['collection'])\n",
    "myped.getParents(11006)\n",
    "#myped.addVcf()\n",
    "myped.addVcf(file_pat = '/mnt/scratch/asalomatov/data/SSC/vcf/raw/%s.family.vqsr.sorted.vcf.gz')\n",
    "myped.ped.head()"
   ]
  },
  {
   "cell_type": "code",
   "execution_count": 16,
   "metadata": {
    "collapsed": true
   },
   "outputs": [],
   "source": [
    "infile_vcf = '/mnt/scratch/asalomatov/SSC_rerun/denovo_analysis/rerun200fam/11006-HC-pm50-ann.vcf.gz'\n",
    "myvars = variants.Variants(infile_vcf, '11006')"
   ]
  },
  {
   "cell_type": "code",
   "execution_count": 26,
   "metadata": {
    "collapsed": false
   },
   "outputs": [
    {
     "name": "stdout",
     "output_type": "stream",
     "text": [
      "AD Integer Allelic depths for the ref and alt alleles in the order listed\n",
      "DP Integer Approximate read depth (reads with MQ=255 or with bad mates are filtered)\n",
      "GQ Integer Genotype Quality\n",
      "GT String Genotype\n",
      "PL Integer Normalized, Phred-scaled likelihoods for genotypes as defined in the VCF specification\n",
      "260 multiallelic sites skipped\n"
     ]
    }
   ],
   "source": [
    "myvars.describeFormatFields()\n",
    "myvars.guessCaller()\n",
    "myvars.reference\n",
    "myvars.samples\n",
    "myvars.readFromVcf()"
   ]
  },
  {
   "cell_type": "code",
   "execution_count": 28,
   "metadata": {
    "collapsed": false
   },
   "outputs": [
    {
     "data": {
      "text/plain": [
       "Index([u'CHROM', u'POS', u'ID', u'REF', u'ALT', u'QUAL', u'FILTER', u'info_AC',\n",
       "       u'info_AF', u'info_AN', u'info_BaseQRankSum', u'info_ClippingRankSum',\n",
       "       u'info_DB', u'info_DP', u'info_DS', u'info_FS', u'info_GC',\n",
       "       u'info_HRun', u'info_HaplotypeScore', u'info_InbreedingCoeff',\n",
       "       u'info_MLEAC', u'info_MLEAF', u'info_MQ', u'info_MQ0',\n",
       "       u'info_MQRankSum', u'info_QD', u'info_ReadPosRankSum', u'info_SOR',\n",
       "       u'info_OLD_VARIANT', u'info_VARTYPE', u'info_SNP', u'info_MNP',\n",
       "       u'info_INS', u'info_DEL', u'info_MIXED', u'info_HOM', u'info_HET',\n",
       "       u'info_ANN', u'info_LOF', u'info_NMD', u'format_11006.fa_ref_AD',\n",
       "       u'format_11006.fa_alt_AD', u'format_11006.fa_DP', u'format_11006.fa_GQ',\n",
       "       u'format_11006.fa_GT', u'format_11006.fa_0_PL', u'format_11006.fa_1_PL',\n",
       "       u'format_11006.fa_2_PL', u'11006.fa_gt_type', u'format_11006.mo_ref_AD',\n",
       "       u'format_11006.mo_alt_AD', u'format_11006.mo_DP', u'format_11006.mo_GQ',\n",
       "       u'format_11006.mo_GT', u'format_11006.mo_0_PL', u'format_11006.mo_1_PL',\n",
       "       u'format_11006.mo_2_PL', u'11006.mo_gt_type', u'format_11006.p1_ref_AD',\n",
       "       u'format_11006.p1_alt_AD', u'format_11006.p1_DP', u'format_11006.p1_GQ',\n",
       "       u'format_11006.p1_GT', u'format_11006.p1_0_PL', u'format_11006.p1_1_PL',\n",
       "       u'format_11006.p1_2_PL', u'11006.p1_gt_type', u'vartype',\n",
       "       u'is_transition', u'family_id'],\n",
       "      dtype='object')"
      ]
     },
     "execution_count": 28,
     "metadata": {},
     "output_type": "execute_result"
    }
   ],
   "source": [
    "myvars.variants.head()\n",
    "myvars.variants.columns"
   ]
  },
  {
   "cell_type": "code",
   "execution_count": null,
   "metadata": {
    "collapsed": true
   },
   "outputs": [],
   "source": []
  },
  {
   "cell_type": "code",
   "execution_count": 10,
   "metadata": {
    "collapsed": false
   },
   "outputs": [
    {
     "name": "stdout",
     "output_type": "stream",
     "text": [
      "1  substitutions found\n",
      "260 multiallelic sites skipped\n"
     ]
    },
    {
     "ename": "StopIteration",
     "evalue": "",
     "output_type": "error",
     "traceback": [
      "\u001b[1;31m---------------------------------------------------------------------------\u001b[0m",
      "\u001b[1;31mStopIteration\u001b[0m                             Traceback (most recent call last)",
      "\u001b[1;32m<ipython-input-10-e6456c23f034>\u001b[0m in \u001b[0;36m<module>\u001b[1;34m()\u001b[0m\n\u001b[0;32m     23\u001b[0m \u001b[0mmyvars\u001b[0m\u001b[1;33m.\u001b[0m\u001b[0mreadFromVcf\u001b[0m\u001b[1;33m(\u001b[0m\u001b[1;33m)\u001b[0m\u001b[1;33m\u001b[0m\u001b[0m\n\u001b[0;32m     24\u001b[0m \u001b[0mmyvars\u001b[0m\u001b[1;33m.\u001b[0m\u001b[0msamples\u001b[0m\u001b[1;33m\u001b[0m\u001b[0m\n\u001b[1;32m---> 25\u001b[1;33m \u001b[0mrecord\u001b[0m \u001b[1;33m=\u001b[0m \u001b[0mmyvars\u001b[0m\u001b[1;33m.\u001b[0m\u001b[0mvcf_reader\u001b[0m\u001b[1;33m.\u001b[0m\u001b[0mnext\u001b[0m\u001b[1;33m(\u001b[0m\u001b[1;33m)\u001b[0m\u001b[1;33m\u001b[0m\u001b[0m\n\u001b[0m\u001b[0;32m     26\u001b[0m \u001b[0mrecord\u001b[0m\u001b[1;33m.\u001b[0m\u001b[0msamples\u001b[0m\u001b[1;33m\u001b[0m\u001b[0m\n\u001b[0;32m     27\u001b[0m \u001b[0mmyvars\u001b[0m\u001b[1;33m.\u001b[0m\u001b[0m_colNamesFormat\u001b[0m\u001b[1;33m(\u001b[0m\u001b[1;33m)\u001b[0m\u001b[1;33m\u001b[0m\u001b[0m\n",
      "\u001b[1;32m/mnt/scratch/asalomatov/software/installs/lib/python2.7/site-packages/PyVCF-0.6.7-py2.7-linux-x86_64.egg/vcf/parser.pyc\u001b[0m in \u001b[0;36mnext\u001b[1;34m(self)\u001b[0m\n\u001b[0;32m    535\u001b[0m     \u001b[1;32mdef\u001b[0m \u001b[0mnext\u001b[0m\u001b[1;33m(\u001b[0m\u001b[0mself\u001b[0m\u001b[1;33m)\u001b[0m\u001b[1;33m:\u001b[0m\u001b[1;33m\u001b[0m\u001b[0m\n\u001b[0;32m    536\u001b[0m         \u001b[1;34m'''Return the next record in the file.'''\u001b[0m\u001b[1;33m\u001b[0m\u001b[0m\n\u001b[1;32m--> 537\u001b[1;33m         \u001b[0mline\u001b[0m \u001b[1;33m=\u001b[0m \u001b[0mself\u001b[0m\u001b[1;33m.\u001b[0m\u001b[0mreader\u001b[0m\u001b[1;33m.\u001b[0m\u001b[0mnext\u001b[0m\u001b[1;33m(\u001b[0m\u001b[1;33m)\u001b[0m\u001b[1;33m\u001b[0m\u001b[0m\n\u001b[0m\u001b[0;32m    538\u001b[0m         \u001b[0mrow\u001b[0m \u001b[1;33m=\u001b[0m \u001b[0mre\u001b[0m\u001b[1;33m.\u001b[0m\u001b[0msplit\u001b[0m\u001b[1;33m(\u001b[0m\u001b[0mself\u001b[0m\u001b[1;33m.\u001b[0m\u001b[0m_separator\u001b[0m\u001b[1;33m,\u001b[0m \u001b[0mline\u001b[0m\u001b[1;33m.\u001b[0m\u001b[0mrstrip\u001b[0m\u001b[1;33m(\u001b[0m\u001b[1;33m)\u001b[0m\u001b[1;33m)\u001b[0m\u001b[1;33m\u001b[0m\u001b[0m\n\u001b[0;32m    539\u001b[0m         \u001b[0mchrom\u001b[0m \u001b[1;33m=\u001b[0m \u001b[0mrow\u001b[0m\u001b[1;33m[\u001b[0m\u001b[1;36m0\u001b[0m\u001b[1;33m]\u001b[0m\u001b[1;33m\u001b[0m\u001b[0m\n",
      "\u001b[1;31mStopIteration\u001b[0m: "
     ]
    }
   ],
   "source": [
    "myvars.readFromVcf()\n",
    "myvars.samples\n",
    "record = myvars.vcf_reader.next()\n",
    "record.samples\n",
    "myvars._colNamesFormat()"
   ]
  },
  {
   "cell_type": "code",
   "execution_count": null,
   "metadata": {
    "collapsed": true
   },
   "outputs": [],
   "source": [
    "myvars.describeFormatFields()\n",
    "\n",
    "\n",
    "###features\n",
    "###extract all variants from rerun to be tested\n",
    "infile_ped = '/mnt/scratch/asalomatov/data/SSC/SSCped/SSC.ped'\n",
    "myped = ped.Ped(infile_ped, ['collection'])\n",
    "myped.getParents(11006)\n",
    "myped.addVcf()\n",
    "fv = reload(features_vcf)\n",
    "train_set = \"/mnt/scratch/asalomatov/data/SSC/SSCdeNovoCalls/ssc_exome_all_snp.txt\"\n",
    "ftrs = fv.FeaturesVcf(myped, train_set) \n",
    "ftrs.variants.head()\n",
    "df_l = []\n",
    "for f in fam_trio:\n",
    "    print f\n",
    "    fv = reload(features_vcf)\n",
    "    train_set = \"/mnt/scratch/asalomatov/data/SSC/SSCdeNovoCalls/ssc_exome_all_snp.txt\"\n",
    "    ftrs = fv.FeaturesVcf(myped, train_set) \n",
    "    if not os.path.isfile('/mnt/scratch/asalomatov/data/SSC/vcf/raw/' + str(f) +'.family.vqsr.sorted.vcf.gz'):\n",
    "        continue\n",
    "    df = ftrs._fileHasVariant('/mnt/scratch/asalomatov/data/SSC/vcf/raw/' + str(f) +'.family.vqsr.sorted.vcf.gz', fam_id=f, ind_id=str(f)+'.p1', chrom=None, pos_start=None, pos_end=None)\n",
    "    df_l.append(df)\n",
    "\n",
    "len(df_l)\n",
    "df_test = pd.concat(df_l)\n",
    "type(df_test)\n",
    "df_test.isnull().sum()\n",
    "df_test.shape\n",
    "df_test.offspring_gt_type.value_counts()\n",
    "c1 = df_test.vartype.isin(['snp'])\n",
    "sum(c1)\n",
    "c3 = df_test['offspring_gt_type'] == 0\n",
    "df_test = df_test[c1 & ~c3]\n",
    "df_test.shape\n",
    "df_test = addVar(df_test, 'ind_id')\n",
    "ftrs.variants = addVar(ftrs.variants, 'ind_id')\n",
    "df_test = pd.merge(df_test, ftrs.variants[['var', 'status']], how='left', on='var')\n",
    "df_test.status.value_counts()\n",
    "ftrs.variants.status.value_counts()\n",
    "ftrs.variants.head()\n",
    "df_test = df_test.dropna(subset=['format_father_0_PL'])\n",
    "df_test = df_test.dropna(subset=['format_father_1_PL'])\n",
    "df_test = df_test.dropna(subset=['format_father_2_PL'])\n",
    "df_test.shape\n",
    "df_test = df_test.dropna(subset=['format_mother_0_PL'])\n",
    "df_test = df_test.dropna(subset=['format_mother_1_PL'])\n",
    "df_test = df_test.dropna(subset=['format_mother_2_PL'])\n",
    "df_test.shape\n",
    "df_test = df_test.dropna(subset=['format_offspring_0_PL'])\n",
    "df_test = df_test.dropna(subset=['format_offspring_1_PL'])\n",
    "df_test = df_test.dropna(subset=['format_offspring_2_PL'])\n",
    "df_test.shape\n",
    "df_test.isnull().sum()\n",
    "\n",
    "a = pd.DataFrame(ftrs.variants.ind_id.str.split('.',1).tolist(), columns=['fam_id', 'memb'], index=ftrs.variants.index)\n",
    "ftrs.variants = ftrs.variants.join(a)\n",
    "ftrs.variants.head()\n",
    "ftrs.variants.dtypes\n",
    "ftrs.variants['fam_id'] =  ftrs.variants['fam_id'].astype(int)\n",
    "sum(ftrs.variants.fam_id.isin(fam_trio))\n",
    "\n",
    "df_test_num = df2sklearn(df_test)\n",
    "df_test_num.isnull().sum()\n",
    "df_test_num.head()\n",
    "df_test_num.dtypes\n",
    "df_train_set_num = pd.concat([df_train_num, df_neg_num])\n",
    "df_train_set_num.head()\n",
    "df_train_set_num.dtypes\n",
    "df_train_set_num.shape\n",
    "df_train_set_num.status01.value_counts()\n",
    "df_train_set_num.isnull().sum()\n",
    "df_train_set_num = df_train_set_num.dropna()\n",
    "\n",
    "ftrs.variants[ftrs.variants..status.value_counts()\n",
    "\n",
    "### extract some negative examples\n",
    "train_set = \"/mnt/scratch/asalomatov/data/SSC/SSCdeNovoCalls/ssc_exome_verified_snp.txt\"\n",
    "train_set = \"/mnt/scratch/asalomatov/data/SSC/SSCdeNovoCalls/ssc_exome_all_snp.txt\"\n",
    "ftrs = fv.FeaturesVcf(myped, train_set) \n",
    "ftrs.variants.head()\n",
    "ftrs.variants.status.value_counts()\n",
    "ftrs.variants.groupby(['descr', 'status']).apply(len)\n",
    "\n",
    "df_l = []\n",
    "for f in df_train['family_id'][:5]:\n",
    "    print f\n",
    "    train_set = \"/mnt/scratch/asalomatov/data/SSC/SSCdeNovoCalls/ssc_exome_verified_snp.txt\"\n",
    "    ftrs = fv.FeaturesVcf(myped, train_set) \n",
    "    df = ftrs._fileHasVariant('/mnt/scratch/asalomatov/data/SSC/vcf/raw/' + str(f) +'.family.vqsr.sorted.vcf.gz',\n",
    "            fam_id=f, ind_id=str(f)+'.p1', chrom=None, pos_start=None, pos_end=None)\n",
    "    df_l.append(df)\n",
    "\n",
    "df = pd.concat(df_l)\n",
    "type(df)\n",
    "df.isnull().sum()\n",
    "df.reset_index(drop=True, inplace=True)\n",
    "df.isnull().sum()\n",
    "df.head()\n",
    "df.shape\n",
    "df.columns\n",
    "df.FILTER.value_counts()\n",
    "df_neg = df\n",
    "#get some negative examples\n",
    "#low quality snp\n",
    "c1 = df.vartype.isin(['snp'])\n",
    "sum(c1)\n",
    "c2 = df.FILTER.isin(['PASS'])\n",
    "sum(c1 & ~c2)\n",
    "df_lo_qual_snp = df[c1 & ~ c2]\n",
    "df_lo_qual_snp.isnull().sum()\n",
    "#child is homRef\n",
    "df.offspring_gt_type.value_counts()\n",
    "c1 = df.vartype.isin(['snp'])\n",
    "sum(c1)\n",
    "c2 = df.FILTER.isin(['PASS'])\n",
    "c3 = df['offspring_gt_type'] == 0\n",
    "df_p1_homref = df[c1 & c2 & c3]\n",
    "df_p1_homref.isnull().sum()\n",
    "df_p1_homref.reset_index(drop=True, inplace=True)\n",
    "N = len(df_p1_homref.index) - 1\n",
    "N\n",
    "N_rows = list(set(np.random.randint(low=0, high=N, size=1000)))\n",
    "len(N_rows)\n",
    "len(set(N_rows))\n",
    "df_p1_homref = df_p1_homref.ix[N_rows]\n",
    "df_p1_homref.shape\n",
    "df_p1_homref.isnull().sum()\n",
    "###concat negative examples\n",
    "df_neg = pd.concat([df_lo_qual_snp, df_p1_homref])\n",
    "df_neg.shape\n",
    "df_neg.isnull().sum()\n",
    "df_neg['status'] = 'N'\n",
    "df_neg.columns\n",
    "\n",
    "### annotate training set with features from vcf files\n",
    "train_set = \"/mnt/scratch/asalomatov/data/SSC/SSCdeNovoCalls/ssc_exome_verified_snp.txt\"\n",
    "train_set = \"/mnt/scratch/asalomatov/data/SSC/SSCdeNovoCalls/ssc_exome_all_snp.txt\"\n",
    "ftrs = fv.FeaturesVcf(myped, train_set) \n",
    "ftrs.ped.ped.head()\n",
    "df_train = ftrs.extractFeatures()\n",
    "len(df_train)\n",
    "df_train = pd.concat(df_train)\n",
    "\n",
    "df_train.shape\n",
    "df_train.columns\n",
    "df_train.status\n",
    "\n",
    "def addVar(df, field):\n",
    "    try: df['var'] = df[field].map(str) + '_' + df.POS.map(str) + '_' +  df.REF.map(str)  + '_' +  df.ALT.map(str) \n",
    "    except: df['var'] = df[field].map(str) + '_' + df.pos.map(str) + '_' +  df.ref.map(str)  + '_' +  df.alt.map(str) \n",
    "    return df\n",
    "\n",
    "df_train = addVar(df_train, 'ind_id')\n",
    "df_neg = addVar(df_neg, 'ind_id')\n",
    "ftrs.variants = addVar(ftrs.variants, 'ind_id')\n",
    "ftrs.variants.status.value_counts()\n",
    "df_train = pd.merge(df_train, ftrs.variants[['var', 'status']], how='left', on='var')\n",
    "df_train.status.value_counts()\n",
    "df_train['status'][df_train['status'] == 'ND'] = 'Y'\n",
    "df_neg = pd.merge(df_neg, ftrs.variants[['var', 'status']], how='left', on='var')\n",
    "df_neg.status.value_counts()\n",
    "df_neg.shape\n",
    "df_neg = df_neg[df_neg.status.isnull()]\n",
    "df_neg.shape\n",
    "df_neg.status = 'N'\n",
    "df_train.tail()\n",
    "df_train.shape\n",
    "\n",
    "fam_trio = [11193, 11195, 11198, 11827, 13415, 11989, 13733, 11055, 11056, 11545, 11303, 12073,\n",
    "        12521, 11660, 11388, 11262, 11707, 13008, 12933, 13844, 11184, 11834, 12437, 12430,\n",
    "        11109, 12532, 11023, 11375, 13314, 13557, 13158, 12300, 11471, 13494, 13857, 12381,\n",
    "        11205, 13914, 13757, 12015, 13610, 14292, 12157, 13863, 13678, 11120, 13530, 13532,\n",
    "        11124, 12641, 11083, 11218, 13668, 13742, 11518, 13741, 13333, 12249, 11009, 11510,\n",
    "        12086, 12674, 11599, 13031, 11096, 11948, 11093, 11947, 11556, 11346, 11224, 13207,\n",
    "        12444, 11506, 11504, 12036, 11587, 12237, 12335, 12130, 11425, 12238, 14020, 12621,\n",
    "        13517, 11753, 12185, 11006, 11069, 11141, 12744, 11064, 11148, 11734, 11863, 12225,\n",
    "        12341, 12346, 12198, 11526, 11523, 13812, 11480, 11928, 12114, 12118, 11246, 12752,\n",
    "        12296, 12212, 14006, 11498, 11043, 12555, 12667, 13822, 12603, 11396, 11257, 13701,\n",
    "        11398, 13274, 11653, 11843, 11969]\n",
    "fam_quad = [13188, 14011, 11964, 13048, 11491, 13793, 11190, 13890, 13835, 12810, 12390, 13169, 12905, 11569, 11629, 11469, 12106, 11773, 13447, 12161, 13116, 11013, 11872, 11172, 11711, 11715, 12011, 14201, 12741, 11390, 11959, 13926, 13335, 11942, 13815, 12373, 12285, 13593, 12703, 11029, 11659, 11472, 11459, 11610, 11788, 13606, 11229, 13346, 11452, 11479, 11722, 13629, 12152, 12153, 12630, 12578, 11696, 12304, 13533, 12358, 12233, 11691]\n",
    "len(fam_trio)\n",
    "df_train.count\n",
    "df_train = df_train[~df_train.family_id.isin(fam_trio)]\n",
    "df_train.shape\n",
    "df_train.head()\n",
    "df_train.isnull().sum()\n",
    "\n",
    "col_to_keep = [u'QUAL', u'info_BaseQRankSum', u'info_ClippingRankSum', u'info_DP', u'info_FS', u'info_GC', u'info_HRun',\n",
    "        u'info_MQ', u'info_MQ0', u'info_MQRankSum', u'info_QD',\n",
    "        u'info_ReadPosRankSum', u'info_SOR', u'format_father_ref_AD', u'format_father_alt_AD', u'format_father_DP',\n",
    "        u'format_father_GQ', u'format_father_0_PL', u'format_father_1_PL',\n",
    "        u'format_father_2_PL',u'format_mother_ref_AD', u'format_mother_alt_AD', u'format_mother_DP',\n",
    "        u'format_mother_GQ', u'format_mother_0_PL', u'format_mother_1_PL', u'format_mother_2_PL',\n",
    "        u'format_offspring_ref_AD', u'format_offspring_alt_AD', u'format_offspring_DP', u'format_offspring_GQ',\n",
    "        u'format_offspring_0_PL', u'format_offspring_1_PL', u'format_offspring_2_PL']\n",
    "col_to_keep_rerun = [u'QUAL', u'info_BaseQRankSum', u'info_ClippingRankSum', u'info_DP', u'info_FS', \n",
    "        u'info_MQ', u'info_MQ0', u'info_MQRankSum', u'info_QD',\n",
    "        u'info_ReadPosRankSum', u'format_father_ref_AD', u'format_father_alt_AD', u'format_father_DP',\n",
    "        u'format_father_GQ', u'format_father_0_PL', u'format_father_1_PL',\n",
    "        u'format_father_2_PL',u'format_mother_ref_AD', u'format_mother_alt_AD', u'format_mother_DP',\n",
    "        u'format_mother_GQ', u'format_mother_0_PL', u'format_mother_1_PL', u'format_mother_2_PL',\n",
    "        u'format_offspring_ref_AD', u'format_offspring_alt_AD', u'format_offspring_DP', u'format_offspring_GQ',\n",
    "        u'format_offspring_0_PL', u'format_offspring_1_PL', u'format_offspring_2_PL']\n",
    "\n",
    "len(col_to_keep_rerun)\n",
    "len(col_to_keep)\n",
    "len(feature_cols)\n",
    "\n",
    "def df2sklearn(mydf, col_to_keep):\n",
    "    if 'status' in mydf.columns:\n",
    "        mydf['status01'] = 1\n",
    "        mydf['status01'][mydf['status'] == 'N'] = 0\n",
    "        col_to_keep += ['status01']\n",
    "    col_to_keep = list(set(col_to_keep).intersection(set(mydf.columns)))\n",
    "    print col_to_keep\n",
    "    #res = mydf[col_to_keep]\n",
    "    mydf[col_to_keep] = mydf[col_to_keep].astype(float)\n",
    "    mydf = mydf.dropna(subset = col_to_keep)\n",
    "    return mydf[col_tokeep] \n",
    "\n",
    "df_train_num = func.df2sklearn(df_train,col_to_keep_rerun)\n",
    "df_train_num.isnull().sum()\n",
    "df_train_num.head()\n",
    "df_train_num.dtypes\n",
    "df_train_num.status01.value_counts()\n",
    "\n",
    "df_neg.isnull().sum()\n",
    "df_neg_num = func.df2sklearn(df_neg, col_to_keep_rerun)\n",
    "df_neg_num.isnull().sum()\n",
    "df_neg_num.head()\n",
    "df_neg_num.dtypes\n",
    "df_neg_num.status01.value_counts()\n",
    "df_train_set_num = pd.concat([df_train_num, df_neg_num])\n",
    "df_train_set_num.head()\n",
    "df_train_set_num.dtypes\n",
    "df_train_set_num.shape\n",
    "df_train_set_num.status01.value_counts()\n",
    "df_train_set_num.isnull().sum()\n",
    "df_train_set_num = df_train_set_num.dropna()\n",
    "df_train_set_num.isnull().sum()\n",
    "df_train_set_num.shape\n",
    "df_train_set_num.describe()\n",
    "#df_train_set_num.to_csv(\"ssc_snp_training_set_no187.csv\", sep=\"\\t\", header=True, index=False) \n",
    "SSC_exome_denovo_Ios_Krumm.csvdf_train_set_num.dtypes\n",
    "#### below is for my rerun\n",
    "df_train_set_num = df_train_set_num[col_to_keep_rerun]\n",
    "\n",
    "def addAlleleBalance(mydf):\n",
    "    mydf['offspring_allele_balance'] = mydf['format_offspring_alt_AD']/(mydf['format_offspring_alt_AD'] + mydf['format_offspring_ref_AD'])\n",
    "    mydf['father_allele_balance'] = mydf['format_father_alt_AD']/(mydf['format_father_alt_AD'] + mydf['format_father_ref_AD'])\n",
    "    mydf['mother_allele_balance'] = mydf['format_mother_alt_AD']/(mydf['format_mother_alt_AD'] + mydf['format_mother_ref_AD'])\n",
    "    mydf = mydf.dropna(subset = ['offspring_allele_balance', 'father_allele_balance', 'mother_allele_balance'])\n",
    "    return mydf\n",
    "\n",
    "df_train_set_num = addAlleleBalance(df_train_set_num)\n",
    "#df_train_set_num.to_csv(\"ssc_snp_training_set.csv\", sep=\"\\t\", header=True, index=False) \n",
    "\n",
    "feature_cols = [x for x in df_train_set_num.columns if x not in 'status01']\n",
    "print feature_cols\n",
    "response_col = 'status01'\n",
    "##add allel ballance\n",
    "\n",
    "### sklearn\n",
    "\n",
    "#from sklearn.datasets import make_hastie_10_2\n",
    "from sklearn.cross_validation import train_test_split\n",
    "from sklearn.ensemble import GradientBoostingClassifier, GradientBoostingRegressor\n",
    "\n",
    "\n",
    "\n",
    "# generate synthetic data from ESLII - Example 10.2\n",
    "#X, y = make_hastie_10_2(n_samples=5000)\n",
    "#X_train, X_test, y_train, y_test = train_test_split(X, y)\n",
    "#\n",
    "# fit estimator\n",
    "est = GradientBoostingClassifier(n_estimators=2000, max_depth=1, learning_rate=.01)\n",
    "est_regr = GradientBoostingRegressor(n_estimators=2000, max_depth=1, learning_rate=.01)\n",
    "len(feature_cols)\n",
    "X_train = df_train_set_num[feature_cols].values\n",
    "y_train = df_train_set_num[response_col].values\n",
    "X_tr, X_te, y_tr, y_te = train_test_split(X_train, y_train)\n",
    "X_tr\n",
    "est.fit(X_tr, y_tr)\n",
    "est_regr.fit(X_tr, y_tr)\n",
    "feature_importance = pd.DataFrame({'contrib': est.feature_importances_ ,'name': feature_cols})\n",
    "feature_importance = pd.DataFrame({'contrib': est_regr.feature_importances_ ,'name': feature_cols})\n",
    "feature_importance.sort(['contrib'], ascending=[False], inplace=True)\n",
    "feature_importance\n",
    "#feature_importance.to_excel('feature_contrib.xls', index=False)\n",
    "est.loss_\n",
    "sum(est.feature_importances_)\n",
    "\n",
    "# predict class labels\n",
    "pred = est.predict(X_te)\n",
    "pred_regr = est_regr.predict(X_te)\n",
    "len(pred)\n",
    "pred_ser = pd.Series(pred)\n",
    "pred_ser.describe()\n",
    "pred_ser.value_counts()\n",
    "sum(y_te == 1)\n",
    "sum(pred_regr > .17)\n",
    "sum(pred[pred_regr > .17] == 1)\n",
    "\n",
    "# score on test data (accuracy)\n",
    "acc = est.score(X_te, y_te)\n",
    "print('ACC: %.4f' % acc)\n",
    "\n",
    "# predict class probabilities\n",
    "est.predict_proba(X_te)[0]\n",
    "\n",
    "\n",
    "df = None\n",
    "df_list = []\n",
    "len(fam_trio)\n",
    "#for f in fam_trio:\n",
    "#for f in fam_quad:\n",
    "for f in fam_trio + fam_quad:\n",
    "    memb = 'p1'\n",
    "    print f\n",
    "#    if str(f) in files_missing:\n",
    "#        continue\n",
    "    fv = reload(features_vcf)\n",
    "    train_set = \"/mnt/scratch/asalomatov/data/SSC/SSCdeNovoCalls/ssc_exome_all_snp.txt\"\n",
    "    ftrs = fv.FeaturesVcf(myped, train_set) \n",
    "    #filepath ='/mnt/scratch/asalomatov/data/SSC/vcf/raw/' + str(f) +'.family.vqsr.sorted.vcf.gz'\n",
    "    #filepath ='/mnt/ceph/asalomatov/SSC_Eichler/rerun/ssc' + str(f) + '/' + str(f)  +'-JHC-vars.vcf.gz'\n",
    "    filepath = '/mnt/scratch/asalomatov/SSC_rerun/denovo_analysis/rerun200fam/'+ str(f) + '-JHC-pm50.vcf.gz'\n",
    "    print filepath\n",
    "    if not os.path.isfile(filepath):\n",
    "        continue\n",
    "    df = ftrs._fileHasVariant(filepath, fam_id=f, ind_id=str(f)+'.'+memb, chrom=None, pos_start=None, pos_end=None)\n",
    "    if df is None:\n",
    "        continue\n",
    "    df_num = func.df2sklearn(df, col_to_keep_rerun)\n",
    "    df_num = addAlleleBalance(df_num)\n",
    "    df_num['score'] = est.predict(df_num[feature_cols].values)\n",
    "#    print 'df_num dim :', df_num.shape\n",
    "#    df_num = df_num[df_num['score'] > .00]\n",
    "#    print 'df_num dim :', df_num.shape\n",
    "    df_list.append(df_num)\n",
    "\n",
    "len(df_list)\n",
    "len(df_list_krumm)\n",
    "type(df)\n",
    "#df_list_krumm = df_list\n",
    "df_re = pd.concat(df_list)\n",
    "df_re.shape\n",
    "df_re.head()\n",
    "df_re.score.value_counts()\n",
    "ftrs.variants.head()\n",
    "ftrs.variants.shape\n",
    "c1 = ftrs.variants.ind_id.isin(df_re.ind_id)\n",
    "sum(c1)\n",
    "df_kn = ftrs.variants[c1]\n",
    "df_kn.shape\n",
    "df_re['var'] = df_re['ind_id'].map(str)+ '_'  + df_re['CHROM'].map(str) + '_' + df_re.POS.map(str) + '_' +  df_re.REF.map(str)  + '_' +  df_re.ALT.map(str) \n",
    "ftrs.variants['var'] = ftrs.variants['ind_id'].map(str)+ '_'  + ftrs.variants['chr'].map(str) + '_' + ftrs.variants.pos.map(str) + '_' +  ftrs.variants.ref.map(str)  + '_' +  ftrs.variants.alt.map(str) \n",
    "\n",
    "df_re['pos_var'] = df_re['CHROM'].map(str) + '_' + df_re.POS.map(str) + '_' +  df_re.REF.map(str)  + '_' +  df_re.ALT.map(str) \n",
    "ftrs.variants['var'] = ftrs.variants['ind_id'].map(str)+ '_'  + ftrs.variants['chr'].map(str) + '_' + ftrs.variants.pos.map(str) + '_' +  ftrs.variants.ref.map(str)  + '_' +  ftrs.variants.alt.map(str) \n",
    "\n",
    "df_re.groupby('pos_var').apply(sum)\n",
    "df_re[df_re.score > .75].groupby('vartype').apply(varsumm)\n",
    "#how many unique variants?\n",
    "df_re.vartype.value_counts()\n",
    "df_re.pheno.value_counts()\n",
    "\n",
    "len(set(df_re['CHROM'].map(str) + '_' + df_re.POS.map(str) + '_' +  df_re.REF.map(str)  + '_' +  df_re.ALT.map(str)))\n",
    "c1 = (df_re['dbsnp'] == 'no') & (df_re['vartype'] == 'snp') \n",
    "len(set((df_re['CHROM'].map(str) + '_' + df_re.POS.map(str) + '_' +  df_re.REF.map(str)  + '_' +\n",
    "    df_re.ALT.map(str))[c1]))\n",
    "###apply hard filter(Ash)\n",
    "cAsh_snp_1 = df_re['QUAL'] >= 30\n",
    "cAsh_snp_2 = df_re['info_FS'] < 25\n",
    "cAsh_snp_3 = df_re['info_QD'] >= 4\n",
    "cAsh_indel_1 = df_re['info_QD'] >= 1\n",
    "\n",
    "df_re['status'][cAsh_snp_1 & cAsh_snp_2 & cAsh_snp_3].value_counts()\n",
    "df_re['dbsnp'][cAsh_snp_1 & cAsh_snp_2 & cAsh_snp_3].value_counts()\n",
    "df_re['dbsnp'].value_counts()\n",
    "\n",
    "\n",
    "df_re = pd.merge(df_re, df_kn[['var', 'status', 'descr']], how='left', on='var')\n",
    "df_re.head()\n",
    "df_re['status'][df_re.status.isnull()] = 'extra'\n",
    "df_re['dbsnp'] = 'yes'\n",
    "df_re['dbsnp'][df_re.ID.isnull()] = 'no'\n",
    "df_re.ID.isnull().sum()\n",
    "df_re.dbsnp.value_counts()\n",
    "df_re.dbsnp.value_counts()\n",
    "df_re.status.value_counts()\n",
    "df_re[df_re.score > .75].status.value_counts()\n",
    "df_re[df_re.score > .75].status.value_counts()\n",
    "df_re[~df_re.status.isin(['extra'])].dbsnp.value_counts()\n",
    "df_re.\n",
    "df_re.groupby('vartype').apply(varsumm)\n",
    "df_re[df_re.score > .75].groupby('vartype').apply(varsumm)\n",
    "df_re[df_re.score > .9].groupby('vartype').apply(varsumm)\n",
    "df_re[df_re.score > .95].groupby('vartype').apply(varsumm)\n",
    "df_re[df_re.score > .99].groupby('vartype').apply(varsumm)\n",
    "df_re[df_re.score > .999].groupby('vartype').apply(varsumm)\n",
    "\n",
    "def varsumm(x):\n",
    "    validated = sum(x['status'] == 'Y')\n",
    "    not_determined = sum(x['status'] == 'ND')\n",
    "    failed = sum(x['status'] == 'N')\n",
    "    extra = sum(x['dbsnp'] == 'no')\n",
    "    return pd.Series ([validated, not_determined, failed, extra], index = ['validated', 'not_determined', 'failed', 'extra']) \n",
    "\n",
    "\n",
    "\n",
    "df.head()\n",
    "df.columns\n",
    "df.shape\n",
    "df.isnull().sum()\n",
    "set(df.columns).difference(set(col_to_keep))\n",
    "set(col_to_keep).difference(set(df.columns))\n",
    "df_num = df2sklearn(df, col_to_keep_rerun)\n",
    "df_num.head()\n",
    "df_num.dtypes\n",
    "df_num[col_to_keep_rerun].dtypes\n",
    "df_num = addAlleleBalance(df_num)\n",
    "df_num = df_num.dropna()\n",
    "df_num.shape\n",
    "df.offspring_gt_type.value_counts()\n",
    "df_num.isnull().sum()\n",
    "set(df_num.columns).difference(set(df_train_set_num.columns))\n",
    "set(df_train_set_num.columns).difference(set(df_num.columns))\n",
    "pred_test = est.predict(df_num[feature_cols].values)\n",
    "len(pred_test)\n",
    "df_num['score'] = pred_test\n",
    "len(pred_test)\n",
    "pred_test[:100]\n",
    "pred_test_ser = pd.Series(pred_test)\n",
    "pred_test_ser.describe()\n",
    "\n",
    "ftrs.variants[ftrs.variants.ind_id.isin([f])]"
   ]
  }
 ],
 "metadata": {
  "kernelspec": {
   "display_name": "Python 2",
   "language": "python",
   "name": "python2"
  },
  "language_info": {
   "codemirror_mode": {
    "name": "ipython",
    "version": 2
   },
   "file_extension": ".py",
   "mimetype": "text/x-python",
   "name": "python",
   "nbconvert_exporter": "python",
   "pygments_lexer": "ipython2",
   "version": "2.7.10"
  }
 },
 "nbformat": 4,
 "nbformat_minor": 0
}
